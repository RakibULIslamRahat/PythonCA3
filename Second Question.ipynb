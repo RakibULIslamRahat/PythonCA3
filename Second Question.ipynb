{
 "cells": [
  {
   "cell_type": "code",
   "execution_count": 5,
   "metadata": {},
   "outputs": [
    {
     "name": "stdout",
     "output_type": "stream",
     "text": [
      "[2, 8]\n"
     ]
    }
   ],
   "source": [
    "class TreeNode:\n",
    "    def __init__(self, data, left = None, right = None):\n",
    "        self.data = data\n",
    "        self.left = left\n",
    "        self.right = right\n",
    "def insert(temp,data):\n",
    "    que = []\n",
    "    que.append(temp)\n",
    "    while (len(que)):\n",
    "        temp = que[0]\n",
    "        que.pop(0)\n",
    "        if (not temp.left):\n",
    "            temp.left = TreeNode(data)\n",
    "            break\n",
    "        else:\n",
    "            que.append(temp.left)\n",
    "        if (not temp.right):\n",
    "            temp.right = TreeNode(data)\n",
    "            break\n",
    "        else:\n",
    "            que.append(temp.right)\n",
    "def make_tree(elements):\n",
    "    Tree = TreeNode(elements[0])\n",
    "    for element in elements[1:]:\n",
    "        insert(Tree, element)\n",
    "        return Tree\n",
    "class Solution(object):\n",
    "    def preorderTraversal(self, root):\n",
    "        res = []\n",
    "        st = []\n",
    "        node = root\n",
    "        while node or st:\n",
    "            while node:\n",
    "                if node.data != None:\n",
    "                    res.append(node.data)\n",
    "                st.append(node)\n",
    "                node = node.left\n",
    "            temp = st[-1]\n",
    "            st.pop()\n",
    "            if temp.right:\n",
    "                node = temp.right\n",
    "        return res\n",
    "ob1 = Solution()\n",
    "head = make_tree([2,8,20,None,None,36,9])\n",
    "print(ob1.preorderTraversal(head))"
   ]
  },
  {
   "cell_type": "code",
   "execution_count": null,
   "metadata": {},
   "outputs": [],
   "source": []
  }
 ],
 "metadata": {
  "kernelspec": {
   "display_name": "Python 3",
   "language": "python",
   "name": "python3"
  },
  "language_info": {
   "codemirror_mode": {
    "name": "ipython",
    "version": 3
   },
   "file_extension": ".py",
   "mimetype": "text/x-python",
   "name": "python",
   "nbconvert_exporter": "python",
   "pygments_lexer": "ipython3",
   "version": "3.8.5"
  }
 },
 "nbformat": 4,
 "nbformat_minor": 4
}
