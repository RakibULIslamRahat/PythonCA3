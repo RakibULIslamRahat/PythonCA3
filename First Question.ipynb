{
 "cells": [
  {
   "cell_type": "code",
   "execution_count": null,
   "metadata": {},
   "outputs": [],
   "source": [
    "import gc\n",
    "i = 0\n",
    "\n",
    "def create_cycle():\n",
    "    x = { }\n",
    "    x[i+1] = x\n",
    "    print x\n",
    "\n",
    "collected = gc.collect() \n",
    "print \"Garbage collector: collected %d objects.\" % (collected)\n",
    " \n",
    "print \"Creating cycles...\"\n",
    "for i in range(10):\n",
    "    create_cycle()\n",
    "\n",
    "collected = gc.collect()\n",
    " \n",
    "print \"Garbage collector: collected %d objects.\" % (collected)"
   ]
  }
 ],
 "metadata": {
  "kernelspec": {
   "display_name": "Python 3",
   "language": "python",
   "name": "python3"
  },
  "language_info": {
   "codemirror_mode": {
    "name": "ipython",
    "version": 3
   },
   "file_extension": ".py",
   "mimetype": "text/x-python",
   "name": "python",
   "nbconvert_exporter": "python",
   "pygments_lexer": "ipython3",
   "version": "3.8.5"
  }
 },
 "nbformat": 4,
 "nbformat_minor": 4
}
